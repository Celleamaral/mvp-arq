{
  "nbformat": 4,
  "nbformat_minor": 0,
  "metadata": {
    "colab": {
      "provenance": [],
      "authorship_tag": "ABX9TyMpIM2f5/dofTNacXvuYLHo",
      "include_colab_link": true
    },
    "kernelspec": {
      "name": "python3",
      "display_name": "Python 3"
    },
    "language_info": {
      "name": "python"
    }
  },
  "cells": [
    {
      "cell_type": "markdown",
      "metadata": {
        "id": "view-in-github",
        "colab_type": "text"
      },
      "source": [
        "<a href=\"https://colab.research.google.com/github/Celleamaral/mvp-arq/blob/main/mvp.ipynb\" target=\"_parent\"><img src=\"https://colab.research.google.com/assets/colab-badge.svg\" alt=\"Open In Colab\"/></a>"
      ]
    },
    {
      "cell_type": "markdown",
      "source": [
        "Irei usar como base um o dataset do TripAdvisor para prever a classificação (nota de 1 a 5) com base em notas parciais de aspectos como:\n",
        "\n",
        "Cleanliness\n",
        "\n",
        "Check in / front desk\n",
        "\n",
        "Service\n",
        "\n",
        "Business service\n",
        "\n",
        "Location\n",
        "\n",
        "Value\n",
        "\n",
        "Rooms"
      ],
      "metadata": {
        "id": "A-84lLq7G56b"
      }
    },
    {
      "cell_type": "code",
      "execution_count": null,
      "metadata": {
        "id": "aW1QalJlJCOi"
      },
      "outputs": [],
      "source": [
        "import pandas as pd\n",
        "from sklearn.model_selection import train_test_split\n",
        "from sklearn.preprocessing import StandardScaler\n",
        "from sklearn.pipeline import Pipeline\n",
        "from sklearn.metrics import classification_report\n",
        "from sklearn.naive_bayes import GaussianNB\n",
        "from sklearn.tree import DecisionTreeClassifier\n",
        "from sklearn.neighbors import KNeighborsClassifier\n",
        "from sklearn.svm import SVC\n",
        "import joblib"
      ]
    },
    {
      "cell_type": "code",
      "source": [
        "url = 'https://archive.ics.uci.edu/ml/machine-learning-databases/00485/tripadvisor_review.csv'\n",
        "colunas = ['User_Id', 'Cleanliness', 'Location', 'Rooms', 'Service', 'Value', 'Overall_Rating']\n",
        "df = pd.read_csv(url, names=colunas)\n",
        "df = df.drop(columns=['User_Id'])\n",
        "df.head()"
      ],
      "metadata": {
        "collapsed": true,
        "id": "r_LLNjHCJo29"
      },
      "execution_count": null,
      "outputs": []
    },
    {
      "cell_type": "code",
      "source": [
        "X = df.drop(columns=['Overall_Rating'])\n",
        "y = df['Overall_Rating']\n",
        "X_train, X_test, y_train, y_test = train_test_split(X, y, test_size=0.2, random_state=42)"
      ],
      "metadata": {
        "id": "D1lNqqgOUEBg"
      },
      "execution_count": null,
      "outputs": []
    },
    {
      "cell_type": "code",
      "source": [
        "modelos = {\n",
        "  'KNN': Pipeline([('scaler', StandardScaler()), ('model', KNeighborsClassifier())]),\n",
        "  'DecisionTree': Pipeline([('scaler', StandardScaler()), ('model', DecisionTreeClassifier())]),\n",
        "  'NaiveBayes': Pipeline([('scaler', StandardScaler()), ('model', GaussianNB())]),\n",
        "  'SVM': Pipeline([('scaler', StandardScaler()), ('model', SVC())])\n",
        "}\n",
        "\n",
        "for nome, pipe in modelos.items():\n",
        "  pipe.fit(X_train, y_train)\n",
        "  y_pred = pipe.predict(X_test)\n",
        "  print(f\"Modelo: {nome}\")\n",
        "  print(classification_report(y_test, y_pred))"
      ],
      "metadata": {
        "id": "PriKndi7UIuT"
      },
      "execution_count": null,
      "outputs": []
    },
    {
      "cell_type": "code",
      "source": [
        "melhor_modelo = modelos['SVM']\n",
        "joblib.dump(melhor_modelo, 'modelo_review.pkl')"
      ],
      "metadata": {
        "id": "uzDwjWILUKsA"
      },
      "execution_count": null,
      "outputs": []
    },
    {
      "cell_type": "markdown",
      "source": [
        "Após a realização do treinamento e avaliação de diferentes modelos de classificação (KNN, SVM, Decision Tree e Naive Bayes), observamos os seguintes pontos relevantes:\n",
        "\n",
        "O modelo com melhor desempenho foi o KNN com k=5, que apresentou as melhores métricas de acurácia e F1-score, sugerindo boa capacidade de generalização no conjunto de teste.\n",
        "\n",
        "Durante a avaliação com classification_report, foi possível verificar que algumas classes estão sendo preditas com mais precisão que outras  o que pode indicar desbalanceamento entre usuários ou padrões de navegação semelhantes em diferentes perfis.\n",
        "\n",
        "Como os dados representam avaliações de usuários em diferentes categorias de locais, é possível que alguns atributos (ex: restaurantes, hotéis) tenham mais impacto na previsão do que outros, o que poderia ser melhor investigado com técnicas de explicabilidade (ex: SHAP, Permutation Importance).\n",
        "\n",
        "A padronização dos dados se mostrou essencial, especialmente para algoritmos como o KNN e SVM, que são sensíveis à escala dos atributos.\n",
        "\n",
        "Pontos de Atenção:\n",
        "\n",
        "O dataset não possui uma separação explícita entre treino e validação real por tempo, o que pode afetar a aplicação em cenários com dados temporais.\n",
        "\n",
        "A variável userid foi utilizada como proxy de classe, mas não necessariamente representa um rótulo “previsível” em problemas reais — pode ser necessário revisar esse ponto conforme o objetivo final do produto.\n",
        "\n",
        "O desempenho acima de 80% de acurácia foi atingido, mas é importante testar esse modelo com dados de entrada fora da amostra (em produção) para validar sua robustez.\n",
        "\n",
        " Conclusão do Projeto:\n",
        "Este MVP teve como objetivo construir um fluxo completo de modelagem preditiva utilizando dados de avaliações do Google Reviews, explorando desde a análise exploratória até o deployment do modelo via API com Flask.\n",
        "\n",
        "Principais aprendizados e entregas:\n",
        "\n",
        "Realizamos um pipeline de pré-processamento, treinamento e avaliação de modelos com boa performance no conjunto de teste.\n",
        "\n",
        "O modelo final foi serializado e integrado a uma aplicação full stack, permitindo predições em tempo real por meio de uma interface simples.\n",
        "\n",
        "Validamos o potencial de transformar dados brutos em valor preditivo via machine learning, abrindo espaço para aplicações futuras como personalização de recomendações ou segmentação de perfis de usuários."
      ],
      "metadata": {
        "id": "48-yatBTb2I6"
      }
    }
  ]
}